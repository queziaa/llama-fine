{
 "cells": [
  {
   "cell_type": "code",
   "execution_count": 22,
   "metadata": {},
   "outputs": [],
   "source": [
    "statistics_file = {}\n",
    "# 读取第一阶段输出文件 确定 对象-讨论 对 数量\n",
    "# outputt1iss.json\n",
    "with open('test_2.json', 'r', encoding='utf-8') as f:\n",
    "    lines = f.readlines()\n",
    "    for line in lines:\n",
    "        temp = eval(line.strip())\n",
    "        results = eval(temp['results'])\n",
    "        statistics_file[temp['id']] = len(results)"
   ]
  },
  {
   "cell_type": "code",
   "execution_count": 25,
   "metadata": {},
   "outputs": [],
   "source": [
    "# outputt1issTollm2.json\n",
    "statistics_file_2 = {}\n",
    "with open('test_cls_3_out.json', 'r', encoding='utf-8') as f:\n",
    "    line = f.readline()\n",
    "    for line in f.readlines():\n",
    "        temp = eval(line.strip())\n",
    "        if temp['id'] not in statistics_file_2:\n",
    "            statistics_file_2[temp['id']] = []\n",
    "        statistics_file_2[temp['id']].append(temp)"
   ]
  },
  {
   "cell_type": "code",
   "execution_count": 26,
   "metadata": {},
   "outputs": [],
   "source": [
    "delID = []\n",
    "# 验证长度\n",
    "for key in statistics_file_2:\n",
    "    if key not in statistics_file:\n",
    "        print(key, 'not in statistics_file')\n",
    "        delID.append(key)\n",
    "    elif statistics_file[key] != len(statistics_file_2[key]):\n",
    "        print(key, statistics_file[key], len(statistics_file_2[key]))\n",
    "        delID.append(key)\n",
    "\n",
    "# # 删除outputt1issTollm2.json 文件中某行数据 id 在 delID 中\n",
    "# with open('outputt1issTollm2_OUT.json', 'w', encoding='utf-8') as outf:\n",
    "#     with open('outputt1issTollm2.json', 'r', encoding='utf-8') as f:\n",
    "#         lines = f.readlines()\n",
    "#         for line in lines:\n",
    "#             temp = eval(line.strip())\n",
    "#             if temp['id'] not in delID:\n",
    "#                 outf.write(line)\n",
    "\n",
    "\n"
   ]
  },
  {
   "cell_type": "code",
   "execution_count": 32,
   "metadata": {},
   "outputs": [
    {
     "name": "stdout",
     "output_type": "stream",
     "text": [
      "error 4329 3\n",
      "error 4329 4\n",
      "error 5946 3\n",
      "error 21 3\n",
      "error 6399 3\n",
      "error 7311 3\n",
      "error 4048 3\n",
      "error 6413 3\n",
      "error 1856 3\n",
      "error 3672 3\n",
      "error 3599 3\n",
      "error 439 3\n",
      "error 2315 3\n",
      "error 5652 3\n",
      "error 1714 3\n",
      "error 2934 3\n",
      "error 2935 3\n",
      "error 6046 3\n",
      "error 4663 3\n",
      "error 2794 3\n"
     ]
    }
   ],
   "source": [
    "ft = {\n",
    "    '':'non-hate',\n",
    "    None:'non-hate',  \n",
    "    '地域':'Region',\n",
    "    '性别':'Sexism',\n",
    "    '种族':'Racism',\n",
    "    '同性恋':'LGBTQ',\n",
    "    '其他':'others',\n",
    "    '是':'hate',\n",
    "    '否':'non-hate'\n",
    "}\n",
    "OUTOUTOUT = {}\n",
    "for k, v in statistics_file_2.items():\n",
    "    for i in range(len(v)):\n",
    "        LLMhate = v[i]['LLMhate']\n",
    "        results_is = v[i]['results_is']\n",
    "        Target = v[i]['Target']\n",
    "        Argument = v[i]['Argument']\n",
    "        # 如果结果为非hate，且结果为非hate的数量大于1，则去掉非hate\n",
    "        if len(results_is) > 1 and 'non-hate' in results_is:\n",
    "            results_is = results_is[1:]\n",
    "            if 'non-hate' in results_is:\n",
    "                print('error', k, i, LLMhate, results_is)\n",
    "        outmpt = {}\n",
    "        outmpt['id'] = k\n",
    "        if 'non-hate' in results_is:\n",
    "            outmpt['is_hate'] = 'non-hate'\n",
    "        else:\n",
    "            outmpt['is_hate'] = 'hate'\n",
    "            # 将 字符串 数组 results_is 通过 ', ' 连接为字符串\n",
    "        outmpt['hate_type'] = ', '.join(results_is)\n",
    "        outmpt['Argument'] = Argument\n",
    "        outmpt['Target'] = Target\n",
    "        if k not in OUTOUTOUT:\n",
    "            OUTOUTOUT[k] = []\n",
    "        OUTOUTOUT[k].append(outmpt)\n",
    "        if (len(OUTOUTOUT[k])) > 2:\n",
    "            print('error', k, len(OUTOUTOUT[k]))"
   ]
  },
  {
   "cell_type": "code",
   "execution_count": 34,
   "metadata": {},
   "outputs": [
    {
     "name": "stdout",
     "output_type": "stream",
     "text": [
      "****not {'id': 1765, 'content': '我先上为敬'}\n",
      "****not {'id': 2894, 'content': '喷神的回答哪里批判了？ 法无禁止即可为，只要不违法，怎么做都是你的自由。只是讨论择偶观而已，我们说不能接受也不犯法，而且我们本来也不在这类人的择偶范围内啊。两条平行线而已，互不相干。'}\n",
      "****not {'id': 6778, 'content': '人家独立自主和你有什么关系'}\n",
      "****not {'id': 5446, 'content': '她们艾滋病率远超失足妇女，会要人亲命'}\n",
      "****not {'id': 1780, 'content': '同性恋先天的？？'}\n"
     ]
    }
   ],
   "source": [
    "def jsonTosStrOUt(temp):\n",
    "    outsre = ''\n",
    "    for i in temp:\n",
    "        outsre += i['Target'] + ' | '\n",
    "        outsre += i['Argument'] + ' | '\n",
    "        outsre += i['hate_type'] + ' | '\n",
    "        outsre += i['is_hate'] + ' '\n",
    "        outsre += '[SEP] '\n",
    "    outsre += '[END]'\n",
    "    outsre = outsre.replace('[SEP] [END]', '[END]')\n",
    "    return outsre\n",
    "         \n",
    "\n",
    "\n",
    "\n",
    "fileOUtjson = []\n",
    "import json\n",
    "with open('test1.json', 'r', encoding='utf-8') as file:\n",
    "    data = json.load(file)\n",
    "for i in data:\n",
    "    if i['id'] not in OUTOUTOUT:\n",
    "        print('****not', i)\n",
    "        continue\n",
    "    i['output'] = jsonTosStrOUt(OUTOUTOUT[i['id']])\n",
    "\n",
    "with open('test1_OUT.json', 'w', encoding='utf-8') as outf:\n",
    "    json.dump(data, outf, ensure_ascii=False, indent=4)"
   ]
  },
  {
   "cell_type": "code",
   "execution_count": null,
   "metadata": {},
   "outputs": [],
   "source": [
    "    {\n",
    "        \"id\": 1765, \n",
    "        \"content\": \"我先上为敬\",\n",
    "        \"output\": \"我 | 先上为敬 | non-hate | non-hate [END]\"\n",
    "    }\n",
    "    {\n",
    "        \"id\": 2894, \n",
    "        \"content\": \"喷神的回答哪里批判了？ 法无禁止即可为，只要不违法，怎么做都是你的自由。只是讨论择偶观而已，我们说不能接受也不犯法，而且我们本来也不在这类人的择偶范围内啊。两条平行线而已，互不相干。\",\n",
    "        \"output\": \"喷神 | 喷神的回答哪里批判了 | non-hate | non-hate [END]\"\n",
    "    }\n",
    "    {\n",
    "        \"id\": 6778, \n",
    "        \"content\": \"人家独立自主和你有什么关系\",\n",
    "        \"output\": \"人家 | 独立自主和你有什么关系 | non-hate | non-hate [END]\"\n",
    "    }\n",
    "    {\n",
    "        \"id\": 5446, \n",
    "        \"content\": \"她们艾滋病率远超失足妇女，会要人亲命\",\n",
    "        \"output\": \"她们 | 艾滋病率远超失足妇女 | Sexism | hate [END]\"\n",
    "    }\n",
    "    {\n",
    "        \"id\": 1780, \n",
    "        \"content\": \"同性恋先天的？？\",\n",
    "        \"output\": \"同性恋 | 先天的 | LGBTQ | hate [END]\"\n",
    "    }"
   ]
  },
  {
   "cell_type": "markdown",
   "metadata": {},
   "source": []
  }
 ],
 "metadata": {
  "kernelspec": {
   "display_name": "base",
   "language": "python",
   "name": "python3"
  },
  "language_info": {
   "codemirror_mode": {
    "name": "ipython",
    "version": 3
   },
   "file_extension": ".py",
   "mimetype": "text/x-python",
   "name": "python",
   "nbconvert_exporter": "python",
   "pygments_lexer": "ipython3",
   "version": "3.12.3"
  }
 },
 "nbformat": 4,
 "nbformat_minor": 2
}
