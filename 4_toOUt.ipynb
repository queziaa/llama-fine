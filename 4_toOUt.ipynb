{
 "cells": [
  {
   "cell_type": "code",
   "execution_count": null,
   "metadata": {},
   "outputs": [],
   "source": [
    "statistics_file = {}\n",
    "# 读取第一阶段输出文件 确定 对象-讨论 对 数量\n",
    "# outputt1iss.json\n",
    "with open('outputt1iss.json', 'r', encoding='utf-8') as f:\n",
    "    lines = f.readlines()\n",
    "    for line in lines:  \n",
    "        temp = eval(line.strip())\n",
    "        results = eval(temp['results'])\n",
    "        statistics_file[temp['id']] = len(results)"
   ]
  },
  {
   "cell_type": "code",
   "execution_count": null,
   "metadata": {},
   "outputs": [],
   "source": [
    "# outputt1issTollm2.json\n",
    "statistics_file_2 = {}\n",
    "with open('outputt1issTollm2.json', 'r', encoding='utf-8') as f:\n",
    "    line = f.readline()\n",
    "    for line in f.readlines():\n",
    "        temp = eval(line.strip())\n",
    "        if temp['id'] not in statistics_file_2:\n",
    "            statistics_file_2[temp['id']] = []\n",
    "        statistics_file_2[temp['id']].append(temp)"
   ]
  },
  {
   "cell_type": "code",
   "execution_count": null,
   "metadata": {},
   "outputs": [],
   "source": [
    "delID = []\n",
    "# 验证长度\n",
    "for key in statistics_file_2:\n",
    "    if key not in statistics_file:\n",
    "        print(key, 'not in statistics_file')\n",
    "        delID.append(key)\n",
    "    elif statistics_file[key] != len(statistics_file_2[key]):\n",
    "        print(key, statistics_file[key], len(statistics_file_2[key]))\n",
    "        delID.append(key)\n",
    "\n",
    "# # 删除outputt1issTollm2.json 文件中某行数据 id 在 delID 中\n",
    "# with open('outputt1issTollm2_OUT.json', 'w', encoding='utf-8') as outf:\n",
    "#     with open('outputt1issTollm2.json', 'r', encoding='utf-8') as f:\n",
    "#         lines = f.readlines()\n",
    "#         for line in lines:\n",
    "#             temp = eval(line.strip())\n",
    "#             if temp['id'] not in delID:\n",
    "#                 outf.write(line)\n",
    "\n",
    "\n"
   ]
  },
  {
   "cell_type": "code",
   "execution_count": null,
   "metadata": {},
   "outputs": [],
   "source": [
    "ft = {\n",
    "    '':'non-hate',\n",
    "    None:'non-hate',  \n",
    "    '地域':'Region',\n",
    "    '性别':'Sexism',\n",
    "    '种族':'Racism',\n",
    "    '同性恋':'LGBTQ',\n",
    "    '其他':'others',\n",
    "    '是':'hate',\n",
    "    '否':'non-hate'\n",
    "}\n",
    "OUTOUTOUT = {}\n",
    "for k, v in statistics_file_2.items():\n",
    "    for i in range(len(v)):\n",
    "        temp = v[i]['results'].replace('```json', '').replace('```', '').replace('\\n', '').replace('null', 'None')\n",
    "        Target = v[i]['Target']\n",
    "        Argument = v[i]['Argument']\n",
    "        temp = eval(temp)\n",
    "        t1 = temp['仇恨判断']\n",
    "        t2 = temp['仇恨类型']\n",
    "        t1 = ft[t1]\n",
    "        t2 = ft[t2]\n",
    "        outmpt = {}\n",
    "        outmpt['id'] = k\n",
    "        outmpt['is_hate'] = t1\n",
    "        outmpt['hate_type'] = t2\n",
    "        outmpt['Argument'] = Argument\n",
    "        outmpt['Target'] = Target\n",
    "        if k not in OUTOUTOUT:\n",
    "            OUTOUTOUT[k] = []\n",
    "        OUTOUTOUT[k].append(outmpt)\n",
    "        # if (len(OUTOUTOUT[k])) > 2:\n",
    "            # print('error', k, len(OUTOUTOUT[k]))"
   ]
  },
  {
   "cell_type": "code",
   "execution_count": null,
   "metadata": {},
   "outputs": [],
   "source": [
    "def jsonTosStrOUt(temp):\n",
    "    outsre = ''\n",
    "    for i in temp:\n",
    "        outsre += i['Target'] + ' | '\n",
    "        outsre += i['Argument'] + ' | '\n",
    "        outsre += i['hate_type'] + ' | '\n",
    "        outsre += i['is_hate'] + ' '\n",
    "        outsre += '[SEP] '\n",
    "    outsre += '[END]'\n",
    "    outsre = outsre.replace('[SEP] [END]', '[END]')\n",
    "    return outsre\n",
    "         \n",
    "\n",
    "\n",
    "\n",
    "fileOUtjson = []\n",
    "import json\n",
    "with open('test1.json', 'r', encoding='utf-8') as file:\n",
    "    data = json.load(file)\n",
    "for i in data:\n",
    "    if i['id'] not in OUTOUTOUT:\n",
    "        print('****not', i)\n",
    "        continue\n",
    "    i['output'] = jsonTosStrOUt(OUTOUTOUT[i['id']])\n",
    "\n",
    "with open('test1_OUT.json', 'w', encoding='utf-8') as outf:\n",
    "    json.dump(data, outf, ensure_ascii=False, indent=4)"
   ]
  }
 ],
 "metadata": {
  "kernelspec": {
   "display_name": "base",
   "language": "python",
   "name": "python3"
  },
  "language_info": {
   "codemirror_mode": {
    "name": "ipython",
    "version": 3
   },
   "file_extension": ".py",
   "mimetype": "text/x-python",
   "name": "python",
   "nbconvert_exporter": "python",
   "pygments_lexer": "ipython3",
   "version": "3.12.3"
  }
 },
 "nbformat": 4,
 "nbformat_minor": 2
}
