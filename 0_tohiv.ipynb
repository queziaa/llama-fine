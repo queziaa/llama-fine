{
 "cells": [
  {
   "cell_type": "code",
   "execution_count": null,
   "id": "c126e342",
   "metadata": {},
   "outputs": [],
   "source": [
    "OUTOUT = []\n",
    "hivword = ['艾','死病','致命的病','乱交得病','az','治病','桶屈','hiv','爱滋','ai滋','HIV','贵滋']\n",
    "import json\n",
    "with open('./DATA/train.json', 'r', encoding='utf-8') as file:\n",
    "    data = json.load(file)\n",
    "for i in data:\n",
    "    for j in hivword:\n",
    "        if j in i['output'] or j in i['content']:\n",
    "            i['output'] = i['output'].replace('others', 'Hivism')\n",
    "            break\n",
    "    # print(len(i['content']),len(i['output'].split('[SEP]')))\n",
    "    # if '[SEP]' in i['output']:\n",
    "        # temp = i['output'].split(' [SEP] ')\n",
    "        # if(len(temp) > 2):\n",
    "            # print(temp)\n",
    "        # if temp[0].split(' | ')[0] == temp[1].split(' | ')[0]:\n",
    "            # print(i['output'])\n",
    "        \n",
    "    # 过滤  NULL 91条数据  其中 有15个子类也不错误删除\n",
    "    if 'NULL | ' in i['output']:\n",
    "        continue\n",
    "    # 共175条数据  之后咋再设计模式识别吧\n",
    "    if 'others' in i['output']:\n",
    "        # print(i['output'])\n",
    "        continue\n",
    "\n",
    "    # temp = i['output'].split(' | ')\n",
    "    # if 'others' in temp[2] and len(temp) > 10:\n",
    "        # print(i['output'])\n",
    "        # continue\n",
    "    OUTOUT.append(i)\n",
    "\n",
    "with open('./DATA/train_hiv.json', 'w', encoding='utf-8') as outf:\n",
    "    json.dump(OUTOUT, outf, ensure_ascii=False, indent=4)"
   ]
  },
  {
   "cell_type": "code",
   "execution_count": null,
   "id": "704bb7ca",
   "metadata": {},
   "outputs": [],
   "source": []
  }
 ],
 "metadata": {
  "kernelspec": {
   "display_name": "base",
   "language": "python",
   "name": "python3"
  },
  "language_info": {
   "codemirror_mode": {
    "name": "ipython",
    "version": 3
   },
   "file_extension": ".py",
   "mimetype": "text/x-python",
   "name": "python",
   "nbconvert_exporter": "python",
   "pygments_lexer": "ipython3",
   "version": "3.12.3"
  }
 },
 "nbformat": 4,
 "nbformat_minor": 5
}
