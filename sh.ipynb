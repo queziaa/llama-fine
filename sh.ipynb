{
 "cells": [
  {
   "cell_type": "code",
   "execution_count": null,
   "id": "681eb3d0",
   "metadata": {},
   "outputs": [],
   "source": [
    "!python tttttttttttttttttttttttttt.py --work 13 --workfile ./DATA/test.json         --Lora_MODEL None\n",
    "!python tttttttttttttttttttttttttt.py --work 13 --workfile ./DATA/train.json        --Lora_MODEL ./13test\n",
    "!python tttttttttttttttttttttttttt.py --work 12 --workfile ./DATA/outputnew3CC.json --Lora_MODEL ./13train\n",
    "!python tttttttttttttttttttttttttt.py --work 12 --workfile ./DATA/outputnew4CC.json --Lora_MODEL ./12outputnew3CC\n",
    "!python tttttttttttttttttttttttttt.py --work 3  --workfile ./DATA/outputnew3CC.json --Lora_MODEL ./12outputnew4CC                                                                                                    "
   ]
  },
  {
   "cell_type": "code",
   "execution_count": null,
   "id": "0706c045",
   "metadata": {},
   "outputs": [],
   "source": [
    "!python  t_GRPO.py --config GRPO.yaml"
   ]
  }
 ],
 "metadata": {
  "kernelspec": {
   "display_name": "Python 3",
   "language": "python",
   "name": "python3"
  },
  "language_info": {
   "codemirror_mode": {
    "name": "ipython",
    "version": 3
   },
   "file_extension": ".py",
   "mimetype": "text/x-python",
   "name": "python",
   "nbconvert_exporter": "python",
   "pygments_lexer": "ipython3",
   "version": "3.10.16"
  }
 },
 "nbformat": 4,
 "nbformat_minor": 5
}
