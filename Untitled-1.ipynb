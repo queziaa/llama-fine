{
 "cells": [
  {
   "cell_type": "code",
   "execution_count": 1,
   "id": "9ba735fa",
   "metadata": {},
   "outputs": [],
   "source": [
    "\n",
    "json = eval(\"\"\"{  \"group\": \"江西省\"}\"\"\")"
   ]
  },
  {
   "cell_type": "code",
   "execution_count": 2,
   "id": "e7c38220",
   "metadata": {},
   "outputs": [
    {
     "data": {
      "text/plain": [
       "{'group': '江西省'}"
      ]
     },
     "execution_count": 2,
     "metadata": {},
     "output_type": "execute_result"
    }
   ],
   "source": [
    "json"
   ]
  },
  {
   "cell_type": "code",
   "execution_count": null,
   "id": "d1f72f2c",
   "metadata": {},
   "outputs": [],
   "source": []
  }
 ],
 "metadata": {
  "kernelspec": {
   "display_name": "llm",
   "language": "python",
   "name": "python3"
  },
  "language_info": {
   "codemirror_mode": {
    "name": "ipython",
    "version": 3
   },
   "file_extension": ".py",
   "mimetype": "text/x-python",
   "name": "python",
   "nbconvert_exporter": "python",
   "pygments_lexer": "ipython3",
   "version": "3.10.12"
  }
 },
 "nbformat": 4,
 "nbformat_minor": 5
}
