{
 "cells": [
  {
   "cell_type": "code",
   "execution_count": null,
   "id": "a330170a",
   "metadata": {},
   "outputs": [
    {
     "name": "stdout",
     "output_type": "stream",
     "text": [
      "🦥 Unsloth: Will patch your computer to enable 2x faster free finetuning.\n",
      "[2025-04-19 20:42:13,709] [INFO] [real_accelerator.py:219:get_accelerator] Setting ds_accelerator to cuda (auto detect)\n",
      "Unsloth: Failed to patch Gemma3ForConditionalGeneration.\n",
      "🦥 Unsloth Zoo will now patch everything to make training faster!\n",
      "INFO 04-19 20:42:20 [__init__.py:239] Automatically detected platform cuda.\n"
     ]
    }
   ],
   "source": [
    "!python t1.py --work 13 --workfile ./DATA/test.json           --Lora_MODEL None\n",
    "!python t1.py --work 13 --workfile ./DATA/train.json          --Lora_MODEL ./test13\n",
    "!python t1.py --work 12 --workfile ./DATA/outputnew3CC.json --Lora_MODEL ./train13\n",
    "!python t1.py --work 12 --workfile ./DATA/outputnew4CC.json --Lora_MODEL ./outputnew3CC12\n",
    "!python t1.py --work 3  --workfile ./DATA/outputnew3CC.json  --Lora_MODEL ./outputnew4CC12"
   ]
  },
  {
   "cell_type": "code",
   "execution_count": null,
   "id": "1724b988",
   "metadata": {},
   "outputs": [],
   "source": []
  }
 ],
 "metadata": {
  "kernelspec": {
   "display_name": "llm",
   "language": "python",
   "name": "python3"
  },
  "language_info": {
   "name": "python",
   "version": "3.10.12"
  }
 },
 "nbformat": 4,
 "nbformat_minor": 5
}
