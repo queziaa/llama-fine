{
 "cells": [
  {
   "cell_type": "code",
   "execution_count": null,
   "id": "a330170a",
   "metadata": {},
   "outputs": [
    {
     "name": "stdout",
     "output_type": "stream",
     "text": [
      "🦥 Unsloth: Will patch your computer to enable 2x faster free finetuning.\n",
      "[2025-04-19 20:52:34,380] [INFO] [real_accelerator.py:219:get_accelerator] Setting ds_accelerator to cuda (auto detect)\n",
      "Unsloth: Failed to patch Gemma3ForConditionalGeneration.\n",
      "🦥 Unsloth Zoo will now patch everything to make training faster!\n"
     ]
    }
   ],
   "source": [
    "!python t1.py --work 13 --workfile ./DATA/test.json           --Lora_MODEL None\n",
    "!python t1.py --work 13 --workfile ./DATA/train.json          --Lora_MODEL ./13test\n",
    "!python t1.py --work 12 --workfile ./DATA/outputnew3CC.json --Lora_MODEL ./13train\n",
    "!python t1.py --work 12 --workfile ./DATA/outputnew4CC.json --Lora_MODEL ./12outputnew3CC\n",
    "!python t1.py --work 3  --workfile ./DATA/outputnew3CC.json  --Lora_MODEL ./12outputnew4CC"
   ]
  }
 ],
 "metadata": {
  "kernelspec": {
   "display_name": "llm",
   "language": "python",
   "name": "python3"
  },
  "language_info": {
   "codemirror_mode": {
    "name": "ipython",
    "version": 3
   },
   "file_extension": ".py",
   "mimetype": "text/x-python",
   "name": "python",
   "nbconvert_exporter": "python",
   "pygments_lexer": "ipython3",
   "version": "3.10.12"
  }
 },
 "nbformat": 4,
 "nbformat_minor": 5
}
