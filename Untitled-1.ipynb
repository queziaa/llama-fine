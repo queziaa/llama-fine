{
 "cells": [
  {
   "cell_type": "code",
   "execution_count": 7,
   "id": "412e6a0c",
   "metadata": {},
   "outputs": [
    {
     "name": "stdout",
     "output_type": "stream",
     "text": [
      "0.4\n"
     ]
    }
   ],
   "source": [
    "from tool import conut_format_reward\n",
    "temp =  'user\\n根据提供的社交媒体发言，我们将进行以下分析：\\n\\n### 1. 社交媒体发言\\n社交媒体发言: 我就是想证明她们也是哥布林，不是什么体面的圣母，我在想真正抵御哥布林的方式是从我做起，积极的和愚的，黑的，挫的划清界限。积极引进可爱清秀的，聪明伶俐的来升级我们的基因，要明白咱们和她们不是一个物种，千万年后咱们的后代进化成长的甜美身材匀称的天使精灵，她们的后代退化成各种怪物，到时候咱们的后代就可以玩刷怪游戏了。\\n\\n### 2. 俚语分析\\n在这段发言中，作者使用了“哥布林”和“圣母”这两个俚语。其中，“哥布林”有时用来形容那些不道德或者行为不端的人，而“圣母”则带有贬义，常用来指代某些自私、虚伪或者行为不当的人。此外，作者也用“愚”、“黑”、“挫”等词形容群体，这表达了对这些群体不满和敌视的心理态度。\\n\\n### 3. 语义分析\\n作者通过这一发言表达了对某些群体的深层次敌视和怨恨。他提到这些群体是“哥布林”，暗示他们行为不端、不守规矩；同时，他指出“她们”的“后代”将变得“退化成各种怪物”。这种表述进一步强化了对这些群体的负面情感。\\n\\n### 4. 恶意目标判断\\n从发言中可以看出，作者明显表达了对某些群体的强烈敌意，尤其是带有负面的形容词对这些群体进行负面描述，如“哥布林”、“愚”、“黑”、“挫”等，且暗示这些群体“后代”的退化状态。因此，作者明确表达了对这些群体的敌意和仇恨。\\n\\n### 5. 仇恨目标json输出\\n```json\\n{\\n\\t\"target\": \\'那些称作“哥布林”、“愚”、“黑”、“挫”的群体\\'\\n}\\n```\\n\\n以上是对给出的社交媒体发言进行的仇恨目标抽取及分析。'\n",
    "\n",
    "\n",
    "print(conut_format_reward(temp))"
   ]
  },
  {
   "cell_type": "code",
   "execution_count": null,
   "id": "95a24f9e",
   "metadata": {},
   "outputs": [],
   "source": []
  }
 ],
 "metadata": {
  "kernelspec": {
   "display_name": "llm",
   "language": "python",
   "name": "python3"
  },
  "language_info": {
   "codemirror_mode": {
    "name": "ipython",
    "version": 3
   },
   "file_extension": ".py",
   "mimetype": "text/x-python",
   "name": "python",
   "nbconvert_exporter": "python",
   "pygments_lexer": "ipython3",
   "version": "3.10.12"
  }
 },
 "nbformat": 4,
 "nbformat_minor": 5
}
